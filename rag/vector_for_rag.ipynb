{
 "cells": [
  {
   "metadata": {},
   "cell_type": "markdown",
   "source": "**Пробовал использовать Chroma и FAISS - работают плохо и медленно :(**",
   "id": "ed679145312142fd"
  },
  {
   "metadata": {
    "ExecuteTime": {
     "end_time": "2025-04-08T20:57:12.702417Z",
     "start_time": "2025-04-08T20:57:11.854411Z"
    }
   },
   "cell_type": "code",
   "source": [
    "import json\n",
    "from usearch.index import Index\n",
    "\n",
    "from langchain.chains import RetrievalQA\n",
    "from langchain_community.llms import Ollama\n",
    "from langchain_ollama import OllamaEmbeddings\n",
    "from langchain_huggingface import HuggingFaceEmbeddings\n",
    "from langchain.docstore.document import Document\n",
    "from langchain_community.vectorstores.usearch import USearch\n",
    "from langchain_community.document_loaders import TextLoader\n",
    "from langchain_community.docstore.in_memory import InMemoryDocstore\n",
    "from langchain.text_splitter import RecursiveCharacterTextSplitter"
   ],
   "id": "2fd29e0d6be1a0da",
   "outputs": [],
   "execution_count": 1
  },
  {
   "metadata": {},
   "cell_type": "markdown",
   "source": "НАДО ВЫБРАТЬ ДРУГУЮ МОДЕЛЬ ДЛЯ ЭМБЕДДИНГА И ДЛЯ САМОЙ ГЕНЕРАЦИИ!!!",
   "id": "174b9dbf222b21d"
  },
  {
   "metadata": {
    "ExecuteTime": {
     "end_time": "2025-04-08T20:57:27.622651Z",
     "start_time": "2025-04-08T20:57:18.298427Z"
    }
   },
   "cell_type": "code",
   "source": [
    "# llm = Ollama(model=\"hf.co/bartowski/microsoft_Phi-4-mini-instruct-GGUF:Q8_0\", temperature=0.7)\n",
    "llm = Ollama(model=\"hf.co/bartowski/phi-4-GGUF:Q5_K_S\", temperature=0.7)\n",
    "embedding_model = HuggingFaceEmbeddings(model_name=\"intfloat/multilingual-e5-small\")"
   ],
   "id": "7d3e3e6a29efe8cc",
   "outputs": [
    {
     "name": "stderr",
     "output_type": "stream",
     "text": [
      "C:\\Users\\merku\\AppData\\Local\\Temp\\ipykernel_3708\\3526995855.py:4: LangChainDeprecationWarning: The class `Ollama` was deprecated in LangChain 0.3.1 and will be removed in 1.0.0. An updated version of the class exists in the :class:`~langchain-ollama package and should be used instead. To use it run `pip install -U :class:`~langchain-ollama` and import as `from :class:`~langchain_ollama import OllamaLLM``.\n",
      "  llm = Ollama(model=\"hf.co/bartowski/phi-4-GGUF:Q5_K_S\", temperature=0.7)\n"
     ]
    }
   ],
   "execution_count": 2
  },
  {
   "metadata": {
    "ExecuteTime": {
     "end_time": "2025-04-08T20:57:54.516709Z",
     "start_time": "2025-04-08T20:57:54.397872Z"
    }
   },
   "cell_type": "code",
   "source": [
    "loader = TextLoader(\"parsed_book_data.txt\", encoding=\"utf-8\")\n",
    "documents = loader.load()\n",
    "\n",
    "splitter = RecursiveCharacterTextSplitter(\n",
    "    chunk_size=1000,\n",
    "    chunk_overlap=100,\n",
    ")\n",
    "docs = splitter.split_documents(documents)"
   ],
   "id": "e8156db4f44a8bba",
   "outputs": [],
   "execution_count": 3
  },
  {
   "metadata": {
    "ExecuteTime": {
     "end_time": "2025-04-08T20:57:55.641257Z",
     "start_time": "2025-04-08T20:57:55.623311Z"
    }
   },
   "cell_type": "code",
   "source": "docs[0]",
   "id": "f20fbf499c32c8d8",
   "outputs": [
    {
     "data": {
      "text/plain": [
       "Document(metadata={'source': 'parsed_book_data.txt'}, page_content='\"\\\\u003cp\\\\u003eРоман-эпопея Михаила Шолохова «Тихий Дон» – одно из наиболее значительных, масштабных и талантливых произведений русскоязычной литературы, принесших автору Нобелевскую премию. Действие романа происходит на фоне важнейших событий в истории России первой половины ХХ века – революции и Гражданской войны, поменявших не только древний уклад донского казачества, к которому принадлежит главный герой Григорий Мелехов, но и судьбу, и облик всей страны. В этом грандиозном произведении нашлось место чуть ли не для всего самого увлекательного, что может предложить читателю художественная литература: здесь и великие исторические реалии, и любовные интриги, и описания давно исчезнувших укладов жизни, многочисленные героические и трагические события, созданные с большой художественной силой и мастерством, тем более поразительными, что Михаилу Шолохову на момент создания первой части романа исполнилось чуть больше двадцати')"
      ]
     },
     "execution_count": 4,
     "metadata": {},
     "output_type": "execute_result"
    }
   ],
   "execution_count": 4
  },
  {
   "metadata": {
    "ExecuteTime": {
     "end_time": "2025-04-08T20:58:17.650202Z",
     "start_time": "2025-04-08T20:58:02.719555Z"
    }
   },
   "cell_type": "code",
   "source": "usearch = USearch.from_documents(docs, embedding_model)",
   "id": "bd33f803b6ec1d70",
   "outputs": [],
   "execution_count": 5
  },
  {
   "metadata": {
    "ExecuteTime": {
     "end_time": "2025-04-08T20:58:35.133482Z",
     "start_time": "2025-04-08T20:58:35.113508Z"
    }
   },
   "cell_type": "code",
   "source": "usearch.similarity_search('Кто написал Анну Каренину?')",
   "id": "9d237f43d7f605d1",
   "outputs": [
    {
     "data": {
      "text/plain": [
       "[Document(metadata={'source': 'parsed_book_data.txt'}, page_content='\"Автор - Лев Толстой.\\n Название книги - Анна Каренина.\\n Описание книги - «Анна Каренина» – одно из величайших произведений мировой литературы. История всепоглощающей страсти замужней женщины и красавца офицера, ради которого она пошла наперекор всему: мнению света, общепринятой морали, своей совести. В романе Лев Толстой смог нарисовать масштабную картину нравов и быта дворянской среды Петербурга и Москвы второй половины XIX века, сочетающую философские размышления авторского alter ego Левина с передовыми в русской литературе психологическими сюжетами, а также сценами из жизни крестьян. «Анна Каренина» – роман о любви, семье, смысле жизни и, конечно же, женской судьбе. Показывая истории нескольких семей, счастливых и несчастных, Толстой рассказывает о тончайших движениях человеческой души: кажется, в этом романе он понял о людях больше, чем они сами о себе могут понять. Издание органично дополняют иллюстрации Ласло Матулая.\"\\n\"Автор - сборник.'),\n",
       " Document(metadata={'source': 'parsed_book_data.txt'}, page_content='\"Автор - Лев Толстой.\\n Название книги - Анна Каренина. Коллекционное иллюстрированное издание.\\n Описание книги - Роман «Анна Каренина» был написан Л.Н. Толстым в 1877 году, а год спустя впервые выпущен отдельным книжным изданием. С тех пор минуло 140 лет. «Анна Каренина» выдержала более 30 экранизаций, бесчисленное количество театральных постановок и переизданий. Но, несмотря на это, постоянно появляются все новые и новые интерпретации этого бессмертного произведения. Ведь темы, затронутые в романе, не теряют и, уверены, не потеряют своей актуальности никогда.\"\\n\"Автор - Зинаида Гиппиус.\\n Название книги - Над кем смеются?.'),\n",
       " Document(metadata={'source': 'parsed_book_data.txt'}, page_content='Название книги - Анна Каренина.\\n Описание книги - Одно из величайших произведений о любви – обретенной и потерянной; о семьях – несчастных и счастливых; о страсти – равно ослепляющей и разрушающей. Все это – роман Льва Николаевича Толстого «Анна Каренина». Книга была актуальна в день первого издания и обретает новые смыслы сейчас.«„Анна Каренина“ есть совершенство как художественное произведение… и такое, с которым ничто подобное из европейских литератур в настоящую эпоху не может сравниться», – писал о романе Федор Достоевский.«Тогда, когда любовь его была сильнее, он мог, если бы сильно захотел этого, вырвать эту любовь из своего сердца, но теперь, когда, как в эту минуту, ему казалось, что он не чувствовал любви к ней, он знал, что связь его с ней не может быть разорвана».Для кого эта книгаДля широкого круга читателей.Для тех, кто хочет дополнить книжную полку великим произведением Л.Н. Толстого в красивом и качественном оформлении.Для поклонников классической литературы.\"'),\n",
       " Document(metadata={'source': 'parsed_book_data.txt'}, page_content='\"Автор - Лев Толстой.\\n Название книги - Анна Каренина.\\n Описание книги - Одно из величайших произведений о любви – обретенной и потерянной, о семье – несчастной и счастливой, и о страсти – равно ослепляющей и разрушающей. Все это – роман Льва Николаевича Толстого «Анна Каренина», актуальный в день первого издания и обретающий новые смыслы сейчас. По мнению Федора Михайловича Достоевского, «Анна Каренина» «есть совершенство как художественное произведение… с которым ничто подобного из европейских литератур в настоящую эпоху не может сравниться».«Уважение выдумали для того, чтобы скрывать пустое место, где должна быть любовь».Для кого эта книгаДля широкого круга читателей.Для тех, кто хочет иметь на книжной полке великое произведение Л.Н. Толстого в красивом и качественном оформлении.Для поклонников классической литературы.\"\\n\"Автор - Александр I.')]"
      ]
     },
     "execution_count": 6,
     "metadata": {},
     "output_type": "execute_result"
    }
   ],
   "execution_count": 6
  },
  {
   "metadata": {
    "ExecuteTime": {
     "end_time": "2025-04-08T20:58:45.226275Z",
     "start_time": "2025-04-08T20:58:45.210367Z"
    }
   },
   "cell_type": "code",
   "source": "retriever = usearch.as_retriever()",
   "id": "69c8203a2a56d17f",
   "outputs": [],
   "execution_count": 7
  },
  {
   "metadata": {
    "ExecuteTime": {
     "end_time": "2025-04-08T20:58:45.819688Z",
     "start_time": "2025-04-08T20:58:45.812688Z"
    }
   },
   "cell_type": "code",
   "source": "qa = RetrievalQA.from_chain_type(llm=llm, chain_type='stuff', retriever=retriever)",
   "id": "75d4ce42a0e985d8",
   "outputs": [],
   "execution_count": 8
  },
  {
   "metadata": {
    "ExecuteTime": {
     "end_time": "2025-04-08T21:00:56.895970Z",
     "start_time": "2025-04-08T21:00:40.868163Z"
    }
   },
   "cell_type": "code",
   "source": "qa.invoke('Кто написал Анну Каренину?')['result']",
   "id": "8ef980a177f6d1e6",
   "outputs": [
    {
     "data": {
      "text/plain": [
       "'Автором романа \"Анна Каренина\" является Лев Толстой.'"
      ]
     },
     "execution_count": 10,
     "metadata": {},
     "output_type": "execute_result"
    }
   ],
   "execution_count": 10
  },
  {
   "metadata": {},
   "cell_type": "markdown",
   "source": "Сохраняем Index",
   "id": "d62579ee1cad193c"
  },
  {
   "metadata": {
    "ExecuteTime": {
     "end_time": "2025-04-08T21:01:30.745188Z",
     "start_time": "2025-04-08T21:01:30.735670Z"
    }
   },
   "cell_type": "code",
   "source": "usearch.index.save('usearch/index.usearch')",
   "id": "77c3050dd35f4a3d",
   "outputs": [],
   "execution_count": 11
  },
  {
   "metadata": {},
   "cell_type": "markdown",
   "source": "Сохраняем docstore",
   "id": "741cd16da675b5f"
  },
  {
   "metadata": {
    "ExecuteTime": {
     "end_time": "2025-04-08T21:01:31.599683Z",
     "start_time": "2025-04-08T21:01:31.486065Z"
    }
   },
   "cell_type": "code",
   "source": [
    "with open(\"usearch/docstore.json\", \"w\", encoding=\"utf-8\") as f:\n",
    "    json.dump({k: v.model_dump() for k, v in usearch.docstore._dict.items()}, f, ensure_ascii=False, indent=2)"
   ],
   "id": "4fa69fe3cc21cf02",
   "outputs": [],
   "execution_count": 12
  },
  {
   "metadata": {},
   "cell_type": "markdown",
   "source": "Сохраняем ids",
   "id": "22335aab96bc91d5"
  },
  {
   "metadata": {
    "ExecuteTime": {
     "end_time": "2025-04-08T21:01:32.423058Z",
     "start_time": "2025-04-08T21:01:32.417795Z"
    }
   },
   "cell_type": "code",
   "source": [
    "with open(\"usearch/ids.json\", \"w\", encoding=\"utf-8\") as f:\n",
    "    json.dump(usearch.ids, f)"
   ],
   "id": "d0b0b7bc4911c64e",
   "outputs": [],
   "execution_count": 13
  },
  {
   "metadata": {},
   "cell_type": "markdown",
   "source": "Загружаем модель",
   "id": "dd31ea20e33d69fe"
  },
  {
   "metadata": {
    "ExecuteTime": {
     "end_time": "2025-04-08T21:10:34.121179Z",
     "start_time": "2025-04-08T21:10:34.044512Z"
    }
   },
   "cell_type": "code",
   "source": [
    "with open(\"usearch/docstore.json\", \"r\", encoding=\"utf-8\") as f:\n",
    "    raw_data = json.load(f)\n",
    "\n",
    "docstore_data = {k: Document(**v) for k, v in raw_data.items()}\n",
    "docstore = InMemoryDocstore(docstore_data)\n",
    "\n",
    "with open(\"usearch/ids.json\") as f:\n",
    "    ids = json.load(f)\n",
    "\n",
    "index = Index()\n",
    "index.load('usearch/index.usearch')"
   ],
   "id": "10079ed0122c912f",
   "outputs": [],
   "execution_count": 14
  },
  {
   "metadata": {
    "ExecuteTime": {
     "end_time": "2025-04-08T21:10:34.510286Z",
     "start_time": "2025-04-08T21:10:34.495872Z"
    }
   },
   "cell_type": "code",
   "source": "usearch = USearch(embedding=embedding_model, index=index, docstore=docstore, ids=ids)",
   "id": "ab85e078caadacb8",
   "outputs": [],
   "execution_count": 15
  },
  {
   "metadata": {
    "ExecuteTime": {
     "end_time": "2025-04-08T21:10:35.519974Z",
     "start_time": "2025-04-08T21:10:35.341705Z"
    }
   },
   "cell_type": "code",
   "source": "usearch.similarity_search('Кто написал Анну Каренину?')",
   "id": "586f9990108f63bf",
   "outputs": [
    {
     "data": {
      "text/plain": [
       "[Document(metadata={'source': 'parsed_book_data.txt'}, page_content='\"Автор - Лев Толстой.\\n Название книги - Анна Каренина.\\n Описание книги - «Анна Каренина» – одно из величайших произведений мировой литературы. История всепоглощающей страсти замужней женщины и красавца офицера, ради которого она пошла наперекор всему: мнению света, общепринятой морали, своей совести. В романе Лев Толстой смог нарисовать масштабную картину нравов и быта дворянской среды Петербурга и Москвы второй половины XIX века, сочетающую философские размышления авторского alter ego Левина с передовыми в русской литературе психологическими сюжетами, а также сценами из жизни крестьян. «Анна Каренина» – роман о любви, семье, смысле жизни и, конечно же, женской судьбе. Показывая истории нескольких семей, счастливых и несчастных, Толстой рассказывает о тончайших движениях человеческой души: кажется, в этом романе он понял о людях больше, чем они сами о себе могут понять. Издание органично дополняют иллюстрации Ласло Матулая.\"\\n\"Автор - сборник.'),\n",
       " Document(metadata={'source': 'parsed_book_data.txt'}, page_content='\"Автор - Лев Толстой.\\n Название книги - Анна Каренина. Коллекционное иллюстрированное издание.\\n Описание книги - Роман «Анна Каренина» был написан Л.Н. Толстым в 1877 году, а год спустя впервые выпущен отдельным книжным изданием. С тех пор минуло 140 лет. «Анна Каренина» выдержала более 30 экранизаций, бесчисленное количество театральных постановок и переизданий. Но, несмотря на это, постоянно появляются все новые и новые интерпретации этого бессмертного произведения. Ведь темы, затронутые в романе, не теряют и, уверены, не потеряют своей актуальности никогда.\"\\n\"Автор - Зинаида Гиппиус.\\n Название книги - Над кем смеются?.'),\n",
       " Document(metadata={'source': 'parsed_book_data.txt'}, page_content='Название книги - Анна Каренина.\\n Описание книги - Одно из величайших произведений о любви – обретенной и потерянной; о семьях – несчастных и счастливых; о страсти – равно ослепляющей и разрушающей. Все это – роман Льва Николаевича Толстого «Анна Каренина». Книга была актуальна в день первого издания и обретает новые смыслы сейчас.«„Анна Каренина“ есть совершенство как художественное произведение… и такое, с которым ничто подобное из европейских литератур в настоящую эпоху не может сравниться», – писал о романе Федор Достоевский.«Тогда, когда любовь его была сильнее, он мог, если бы сильно захотел этого, вырвать эту любовь из своего сердца, но теперь, когда, как в эту минуту, ему казалось, что он не чувствовал любви к ней, он знал, что связь его с ней не может быть разорвана».Для кого эта книгаДля широкого круга читателей.Для тех, кто хочет дополнить книжную полку великим произведением Л.Н. Толстого в красивом и качественном оформлении.Для поклонников классической литературы.\"'),\n",
       " Document(metadata={'source': 'parsed_book_data.txt'}, page_content='\"Автор - Лев Толстой.\\n Название книги - Анна Каренина.\\n Описание книги - Одно из величайших произведений о любви – обретенной и потерянной, о семье – несчастной и счастливой, и о страсти – равно ослепляющей и разрушающей. Все это – роман Льва Николаевича Толстого «Анна Каренина», актуальный в день первого издания и обретающий новые смыслы сейчас. По мнению Федора Михайловича Достоевского, «Анна Каренина» «есть совершенство как художественное произведение… с которым ничто подобного из европейских литератур в настоящую эпоху не может сравниться».«Уважение выдумали для того, чтобы скрывать пустое место, где должна быть любовь».Для кого эта книгаДля широкого круга читателей.Для тех, кто хочет иметь на книжной полке великое произведение Л.Н. Толстого в красивом и качественном оформлении.Для поклонников классической литературы.\"\\n\"Автор - Александр I.')]"
      ]
     },
     "execution_count": 16,
     "metadata": {},
     "output_type": "execute_result"
    }
   ],
   "execution_count": 16
  },
  {
   "metadata": {
    "ExecuteTime": {
     "end_time": "2025-04-08T14:58:57.286132Z",
     "start_time": "2025-04-08T14:58:57.271550Z"
    }
   },
   "cell_type": "code",
   "source": "retriever = usearch.as_retriever()",
   "id": "a93e437fa931898f",
   "outputs": [],
   "execution_count": 25
  },
  {
   "metadata": {
    "ExecuteTime": {
     "end_time": "2025-04-08T14:58:57.302216Z",
     "start_time": "2025-04-08T14:58:57.287128Z"
    }
   },
   "cell_type": "code",
   "source": "qa = RetrievalQA.from_chain_type(llm=llm, chain_type='stuff', retriever=retriever)",
   "id": "3e102083b00c54a8",
   "outputs": [],
   "execution_count": 26
  },
  {
   "metadata": {
    "ExecuteTime": {
     "end_time": "2025-04-08T14:59:01.444388Z",
     "start_time": "2025-04-08T14:58:57.303137Z"
    }
   },
   "cell_type": "code",
   "source": "qa.invoke('Кто написал Анну Каренину?')['result']",
   "id": "c5fddaa44a17335a",
   "outputs": [
    {
     "data": {
      "text/plain": [
       "'Автором романа \"Анна Каренина\" является Лев Толстой.'"
      ]
     },
     "execution_count": 27,
     "metadata": {},
     "output_type": "execute_result"
    }
   ],
   "execution_count": 27
  }
 ],
 "metadata": {
  "kernelspec": {
   "display_name": "Python 3",
   "language": "python",
   "name": "python3"
  },
  "language_info": {
   "codemirror_mode": {
    "name": "ipython",
    "version": 2
   },
   "file_extension": ".py",
   "mimetype": "text/x-python",
   "name": "python",
   "nbconvert_exporter": "python",
   "pygments_lexer": "ipython2",
   "version": "2.7.6"
  }
 },
 "nbformat": 4,
 "nbformat_minor": 5
}
