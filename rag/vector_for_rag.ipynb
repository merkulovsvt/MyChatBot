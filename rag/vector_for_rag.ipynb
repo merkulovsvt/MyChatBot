{
 "cells": [
  {
   "metadata": {},
   "cell_type": "markdown",
   "source": "**Пробовал использовать Chroma и FAISS - работают плохо и медленно :(**",
   "id": "ed679145312142fd"
  },
  {
   "metadata": {
    "ExecuteTime": {
     "end_time": "2025-04-09T11:13:52.551155Z",
     "start_time": "2025-04-09T11:13:51.707394Z"
    }
   },
   "cell_type": "code",
   "source": [
    "import json\n",
    "from usearch.index import Index\n",
    "\n",
    "from langchain.chains import RetrievalQA\n",
    "from langchain_community.llms import Ollama\n",
    "from langchain_ollama import OllamaEmbeddings\n",
    "from langchain_huggingface import HuggingFaceEmbeddings\n",
    "from langchain.docstore.document import Document\n",
    "from langchain_community.vectorstores.usearch import USearch\n",
    "from langchain_community.document_loaders import TextLoader\n",
    "from langchain_community.docstore.in_memory import InMemoryDocstore\n",
    "from langchain.text_splitter import RecursiveCharacterTextSplitter"
   ],
   "id": "2fd29e0d6be1a0da",
   "outputs": [],
   "execution_count": 1
  },
  {
   "metadata": {
    "ExecuteTime": {
     "end_time": "2025-04-09T11:14:00.912879Z",
     "start_time": "2025-04-09T11:13:52.553148Z"
    }
   },
   "cell_type": "code",
   "source": [
    "# llm = Ollama(model=\"hf.co/bartowski/microsoft_Phi-4-mini-instruct-GGUF:Q8_0\", temperature=0.7)\n",
    "llm = Ollama(model=\"hf.co/bartowski/phi-4-GGUF:Q5_K_S\", temperature=0.7)\n",
    "embedding_model = HuggingFaceEmbeddings(model_name=\"intfloat/multilingual-e5-small\")"
   ],
   "id": "7d3e3e6a29efe8cc",
   "outputs": [
    {
     "name": "stderr",
     "output_type": "stream",
     "text": [
      "C:\\Users\\merku\\AppData\\Local\\Temp\\ipykernel_34192\\1254219276.py:2: LangChainDeprecationWarning: The class `Ollama` was deprecated in LangChain 0.3.1 and will be removed in 1.0.0. An updated version of the class exists in the :class:`~langchain-ollama package and should be used instead. To use it run `pip install -U :class:`~langchain-ollama` and import as `from :class:`~langchain_ollama import OllamaLLM``.\n",
      "  llm = Ollama(model=\"hf.co/bartowski/phi-4-GGUF:Q5_K_S\", temperature=0.7)\n"
     ]
    }
   ],
   "execution_count": 2
  },
  {
   "metadata": {
    "ExecuteTime": {
     "end_time": "2025-04-09T11:14:01.933015Z",
     "start_time": "2025-04-09T11:14:00.913788Z"
    }
   },
   "cell_type": "code",
   "source": [
    "loader = TextLoader(\"parsed_book_data.txt\", encoding=\"utf-8\")\n",
    "documents = loader.load()\n",
    "\n",
    "splitter = RecursiveCharacterTextSplitter(\n",
    "    chunk_size=1000,\n",
    "    chunk_overlap=100,\n",
    ")\n",
    "docs = splitter.split_documents(documents)"
   ],
   "id": "e8156db4f44a8bba",
   "outputs": [],
   "execution_count": 3
  },
  {
   "metadata": {
    "ExecuteTime": {
     "end_time": "2025-04-09T11:14:01.948259Z",
     "start_time": "2025-04-09T11:14:01.934010Z"
    }
   },
   "cell_type": "code",
   "source": "docs[0]",
   "id": "f20fbf499c32c8d8",
   "outputs": [
    {
     "data": {
      "text/plain": [
       "Document(metadata={'source': 'parsed_book_data.txt'}, page_content='\"[Книга] Автор: Мария Корнатт. Название: С любовью, мама! Секреты спокойной беременности и материнства без эмоционального выгорания. Описание: Мария Корнатт – детский нейропсихолог, специалист по сну малышей от 0 до 5 лет с дипломом FSI и Michigan State University, консультант по приучению деток к осознанному навыку хождения в туалет, автор детских сказок о мягком приучении к горшку и сну в своей кроватке.В современном мире красивого материнства в картинках из соцсетей так легко почувствовать себя плохим родителем и усомниться в своих силах. Книга «С любовью, мама!» станет вашим другом и поддержкой, поможет выстроить внутреннюю опору и уверенность, а также даст вам самую важную информацию о подготовке к родам, жизни с младенцем, сне и кормлениях.В формате PDF A4 сохранен издательский макет книги.\"')"
      ]
     },
     "execution_count": 4,
     "metadata": {},
     "output_type": "execute_result"
    }
   ],
   "execution_count": 4
  },
  {
   "metadata": {
    "ExecuteTime": {
     "end_time": "2025-04-09T11:15:13.407114Z",
     "start_time": "2025-04-09T11:14:01.949365Z"
    }
   },
   "cell_type": "code",
   "source": "usearch = USearch.from_documents(docs, embedding_model)",
   "id": "bd33f803b6ec1d70",
   "outputs": [],
   "execution_count": 5
  },
  {
   "metadata": {
    "ExecuteTime": {
     "end_time": "2025-04-09T11:15:13.437142Z",
     "start_time": "2025-04-09T11:15:13.408028Z"
    }
   },
   "cell_type": "code",
   "source": "usearch.similarity_search('Кто написал Анну Каренину?')",
   "id": "9d237f43d7f605d1",
   "outputs": [
    {
     "data": {
      "text/plain": [
       "[Document(metadata={'source': 'parsed_book_data.txt'}, page_content='\"[Книга] Автор: Лев Толстой. Название: Анна Каренина. Описание: «Анна Каренина» – одно из величайших произведений мировой литературы. История всепоглощающей страсти замужней женщины и красавца офицера, ради которого она пошла наперекор всему: мнению света, общепринятой морали, своей совести. В романе Лев Толстой смог нарисовать масштабную картину нравов и быта дворянской среды Петербурга и Москвы второй половины XIX века, сочетающую философские размышления авторского alter ego Левина с передовыми в русской литературе психологическими сюжетами, а также сценами из жизни крестьян. «Анна Каренина» – роман о любви, семье, смысле жизни и, конечно же, женской судьбе. Показывая истории нескольких семей, счастливых и несчастных, Толстой рассказывает о тончайших движениях человеческой души: кажется, в этом романе он понял о людях больше, чем они сами о себе могут понять. Издание органично дополняют иллюстрации Ласло Матулая.\"'),\n",
       " Document(metadata={'source': 'parsed_book_data.txt'}, page_content='\"[Книга] Автор: Лев Толстой. Название: Анна Каренина. Коллекционное иллюстрированное издание. Описание: Роман «Анна Каренина» был написан Л.Н. Толстым в 1877 году, а год спустя впервые выпущен отдельным книжным изданием. С тех пор минуло 140 лет. «Анна Каренина» выдержала более 30 экранизаций, бесчисленное количество театральных постановок и переизданий. Но, несмотря на это, постоянно появляются все новые и новые интерпретации этого бессмертного произведения. Ведь темы, затронутые в романе, не теряют и, уверены, не потеряют своей актуальности никогда.\"'),\n",
       " Document(metadata={'source': 'parsed_book_data.txt'}, page_content='\"[Книга] Автор: Лев Толстой. Название: Анна Каренина. Описание: Величайший роман о любви, семье, свойствах страсти и смысле жизни. «Главные книги русской литературы» – совместная серия издательства «Альпина. Проза» и интернет-проекта «Полка». Произведения, которые в ней выходят, выбраны современными писателями, критиками, литературоведами, преподавателями. Это и попытка определить, как выглядит сегодня русский литературный канон, и новый взгляд на известные произведения: каждую книгу сопровождает предисловие авторов «Полки».\"'),\n",
       " Document(metadata={'source': 'parsed_book_data.txt'}, page_content='\"[Книга] Автор: Лев Толстой. Название: Анна Каренина. Роман в восьми частях. Части 1–4. Описание: «Анна Каренина» – роман о русских людях 1870-х годов: о семье и свободе, о любви и измене, о поисках смысла жизни и войне. Споры вокруг проблем этой книги начались сразу же по выходе первых частей и продолжаются по сей день: как относится автор к заглавной героине, что означает эпиграф к роману, как связаны две основных темы – судьба Анны и поиски Левина? Современники видели в книге Льва Толстого множество недостатков – и лишь Николай Страхов сразу же оценил роман как высшее достижение русской литературы. Наше издание снабжено подробным комментарием, словарем устаревших слов.\"')]"
      ]
     },
     "execution_count": 6,
     "metadata": {},
     "output_type": "execute_result"
    }
   ],
   "execution_count": 6
  },
  {
   "metadata": {
    "ExecuteTime": {
     "end_time": "2025-04-09T11:15:13.452174Z",
     "start_time": "2025-04-09T11:15:13.438168Z"
    }
   },
   "cell_type": "code",
   "source": "retriever = usearch.as_retriever()",
   "id": "69c8203a2a56d17f",
   "outputs": [],
   "execution_count": 7
  },
  {
   "metadata": {
    "ExecuteTime": {
     "end_time": "2025-04-09T11:15:13.467449Z",
     "start_time": "2025-04-09T11:15:13.453177Z"
    }
   },
   "cell_type": "code",
   "source": "qa = RetrievalQA.from_chain_type(llm=llm, chain_type='stuff', retriever=retriever)",
   "id": "75d4ce42a0e985d8",
   "outputs": [],
   "execution_count": 8
  },
  {
   "metadata": {
    "ExecuteTime": {
     "end_time": "2025-04-09T11:15:33.131889Z",
     "start_time": "2025-04-09T11:15:13.469442Z"
    }
   },
   "cell_type": "code",
   "source": "qa.invoke('Кто написал Анну Каренину?')['result']",
   "id": "8ef980a177f6d1e6",
   "outputs": [
    {
     "data": {
      "text/plain": [
       "'Автором романа \"Анна Каренина\" является Лев Толстой.'"
      ]
     },
     "execution_count": 9,
     "metadata": {},
     "output_type": "execute_result"
    }
   ],
   "execution_count": 9
  },
  {
   "metadata": {},
   "cell_type": "markdown",
   "source": "Сохраняем Index",
   "id": "d62579ee1cad193c"
  },
  {
   "metadata": {
    "ExecuteTime": {
     "end_time": "2025-04-09T11:15:33.209678Z",
     "start_time": "2025-04-09T11:15:33.133884Z"
    }
   },
   "cell_type": "code",
   "source": "usearch.index.save('usearch/index.usearch')",
   "id": "77c3050dd35f4a3d",
   "outputs": [],
   "execution_count": 10
  },
  {
   "metadata": {},
   "cell_type": "markdown",
   "source": "Сохраняем docstore",
   "id": "741cd16da675b5f"
  },
  {
   "metadata": {
    "ExecuteTime": {
     "end_time": "2025-04-09T11:15:33.627505Z",
     "start_time": "2025-04-09T11:15:33.211635Z"
    }
   },
   "cell_type": "code",
   "source": [
    "with open(\"usearch/docstore.json\", \"w\", encoding=\"utf-8\") as f:\n",
    "    json.dump({k: v.model_dump() for k, v in usearch.docstore._dict.items()}, f, ensure_ascii=False, indent=2)"
   ],
   "id": "4fa69fe3cc21cf02",
   "outputs": [],
   "execution_count": 11
  },
  {
   "metadata": {},
   "cell_type": "markdown",
   "source": "Сохраняем ids",
   "id": "22335aab96bc91d5"
  },
  {
   "metadata": {
    "ExecuteTime": {
     "end_time": "2025-04-09T11:15:33.642693Z",
     "start_time": "2025-04-09T11:15:33.628690Z"
    }
   },
   "cell_type": "code",
   "source": [
    "with open(\"usearch/ids.json\", \"w\", encoding=\"utf-8\") as f:\n",
    "    json.dump(usearch.ids, f)"
   ],
   "id": "d0b0b7bc4911c64e",
   "outputs": [],
   "execution_count": 12
  },
  {
   "metadata": {},
   "cell_type": "markdown",
   "source": "Загружаем модель",
   "id": "dd31ea20e33d69fe"
  },
  {
   "metadata": {
    "ExecuteTime": {
     "end_time": "2025-04-09T11:15:33.961263Z",
     "start_time": "2025-04-09T11:15:33.643771Z"
    }
   },
   "cell_type": "code",
   "source": [
    "with open(\"usearch/docstore.json\", \"r\", encoding=\"utf-8\") as f:\n",
    "    raw_data = json.load(f)\n",
    "\n",
    "docstore_data = {k: Document(**v) for k, v in raw_data.items()}\n",
    "docstore = InMemoryDocstore(docstore_data)\n",
    "\n",
    "with open(\"usearch/ids.json\") as f:\n",
    "    ids = json.load(f)\n",
    "\n",
    "index = Index()\n",
    "index.load('usearch/index.usearch')"
   ],
   "id": "10079ed0122c912f",
   "outputs": [],
   "execution_count": 13
  },
  {
   "metadata": {
    "ExecuteTime": {
     "end_time": "2025-04-09T11:15:33.977265Z",
     "start_time": "2025-04-09T11:15:33.962257Z"
    }
   },
   "cell_type": "code",
   "source": "usearch = USearch(embedding=embedding_model, index=index, docstore=docstore, ids=ids)",
   "id": "ab85e078caadacb8",
   "outputs": [],
   "execution_count": 14
  },
  {
   "metadata": {
    "ExecuteTime": {
     "end_time": "2025-04-09T11:15:34.894640Z",
     "start_time": "2025-04-09T11:15:33.978266Z"
    }
   },
   "cell_type": "code",
   "source": "usearch.similarity_search('Кто написал Анну Каренину?')",
   "id": "586f9990108f63bf",
   "outputs": [
    {
     "data": {
      "text/plain": [
       "[Document(metadata={'source': 'parsed_book_data.txt'}, page_content='\"[Книга] Автор: Лев Толстой. Название: Анна Каренина. Описание: «Анна Каренина» – одно из величайших произведений мировой литературы. История всепоглощающей страсти замужней женщины и красавца офицера, ради которого она пошла наперекор всему: мнению света, общепринятой морали, своей совести. В романе Лев Толстой смог нарисовать масштабную картину нравов и быта дворянской среды Петербурга и Москвы второй половины XIX века, сочетающую философские размышления авторского alter ego Левина с передовыми в русской литературе психологическими сюжетами, а также сценами из жизни крестьян. «Анна Каренина» – роман о любви, семье, смысле жизни и, конечно же, женской судьбе. Показывая истории нескольких семей, счастливых и несчастных, Толстой рассказывает о тончайших движениях человеческой души: кажется, в этом романе он понял о людях больше, чем они сами о себе могут понять. Издание органично дополняют иллюстрации Ласло Матулая.\"'),\n",
       " Document(metadata={'source': 'parsed_book_data.txt'}, page_content='\"[Книга] Автор: Лев Толстой. Название: Анна Каренина. Коллекционное иллюстрированное издание. Описание: Роман «Анна Каренина» был написан Л.Н. Толстым в 1877 году, а год спустя впервые выпущен отдельным книжным изданием. С тех пор минуло 140 лет. «Анна Каренина» выдержала более 30 экранизаций, бесчисленное количество театральных постановок и переизданий. Но, несмотря на это, постоянно появляются все новые и новые интерпретации этого бессмертного произведения. Ведь темы, затронутые в романе, не теряют и, уверены, не потеряют своей актуальности никогда.\"'),\n",
       " Document(metadata={'source': 'parsed_book_data.txt'}, page_content='\"[Книга] Автор: Лев Толстой. Название: Анна Каренина. Описание: Величайший роман о любви, семье, свойствах страсти и смысле жизни. «Главные книги русской литературы» – совместная серия издательства «Альпина. Проза» и интернет-проекта «Полка». Произведения, которые в ней выходят, выбраны современными писателями, критиками, литературоведами, преподавателями. Это и попытка определить, как выглядит сегодня русский литературный канон, и новый взгляд на известные произведения: каждую книгу сопровождает предисловие авторов «Полки».\"'),\n",
       " Document(metadata={'source': 'parsed_book_data.txt'}, page_content='\"[Книга] Автор: Лев Толстой. Название: Анна Каренина. Роман в восьми частях. Части 1–4. Описание: «Анна Каренина» – роман о русских людях 1870-х годов: о семье и свободе, о любви и измене, о поисках смысла жизни и войне. Споры вокруг проблем этой книги начались сразу же по выходе первых частей и продолжаются по сей день: как относится автор к заглавной героине, что означает эпиграф к роману, как связаны две основных темы – судьба Анны и поиски Левина? Современники видели в книге Льва Толстого множество недостатков – и лишь Николай Страхов сразу же оценил роман как высшее достижение русской литературы. Наше издание снабжено подробным комментарием, словарем устаревших слов.\"')]"
      ]
     },
     "execution_count": 15,
     "metadata": {},
     "output_type": "execute_result"
    }
   ],
   "execution_count": 15
  },
  {
   "metadata": {
    "ExecuteTime": {
     "end_time": "2025-04-09T11:15:34.910011Z",
     "start_time": "2025-04-09T11:15:34.895639Z"
    }
   },
   "cell_type": "code",
   "source": "retriever = usearch.as_retriever()",
   "id": "a93e437fa931898f",
   "outputs": [],
   "execution_count": 16
  },
  {
   "metadata": {
    "ExecuteTime": {
     "end_time": "2025-04-09T11:15:34.926014Z",
     "start_time": "2025-04-09T11:15:34.911003Z"
    }
   },
   "cell_type": "code",
   "source": "qa = RetrievalQA.from_chain_type(llm=llm, chain_type='stuff', retriever=retriever)",
   "id": "3e102083b00c54a8",
   "outputs": [],
   "execution_count": 17
  },
  {
   "metadata": {
    "ExecuteTime": {
     "end_time": "2025-04-09T11:15:38.265214Z",
     "start_time": "2025-04-09T11:15:34.927003Z"
    }
   },
   "cell_type": "code",
   "source": "qa.invoke('Кто написал Анну Каренину?')['result']",
   "id": "c5fddaa44a17335a",
   "outputs": [
    {
     "data": {
      "text/plain": [
       "'Лев Толстой написал \"Анну Каренину\".'"
      ]
     },
     "execution_count": 18,
     "metadata": {},
     "output_type": "execute_result"
    }
   ],
   "execution_count": 18
  }
 ],
 "metadata": {
  "kernelspec": {
   "display_name": "Python 3",
   "language": "python",
   "name": "python3"
  },
  "language_info": {
   "codemirror_mode": {
    "name": "ipython",
    "version": 2
   },
   "file_extension": ".py",
   "mimetype": "text/x-python",
   "name": "python",
   "nbconvert_exporter": "python",
   "pygments_lexer": "ipython2",
   "version": "2.7.6"
  }
 },
 "nbformat": 4,
 "nbformat_minor": 5
}
